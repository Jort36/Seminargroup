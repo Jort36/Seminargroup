{
 "cells": [
  {
   "cell_type": "code",
   "execution_count": 3,
   "id": "e3e35eb0-c1bc-43d8-acf0-bfabfc5d26a8",
   "metadata": {},
   "outputs": [],
   "source": [
    "import numpy as np\n",
    "import seaborn as sns\n",
    "import pandas as pd\n"
   ]
  },
  {
   "cell_type": "markdown",
   "id": "c9e52379-b56c-4f14-91ca-3c885dfb561b",
   "metadata": {},
   "source": [
    "<font size='4' face='Times new Roman'>\n",
    "    Dit worden de US Factors\n",
    "    <font>"
   ]
  },
  {
   "cell_type": "code",
   "execution_count": 120,
   "id": "a948591d-5e11-4577-8693-643a5920c0e2",
   "metadata": {
    "tags": []
   },
   "outputs": [
    {
     "name": "stdout",
     "output_type": "stream",
     "text": [
      "['ac' 'bab' 'cfp' 'cma' 'ep' 'hml' 'liq' 'ltrev' 'nsi' 'qmj' 'rmw' 'rvar'\n",
      " 'smb' 'strev' 'umd' 'glbab' 'glcma' 'glhml' 'glqmj' 'glrmw' 'glsmb'\n",
      " 'glumd']\n",
      "       year  month anomaly    ret   time  global\n",
      "0      1963      7      ac  2.170   42.0     0.0\n",
      "1      1963      8      ac -0.197   43.0     0.0\n",
      "2      1963      9      ac  0.600   44.0     0.0\n",
      "3      1963     10      ac  6.463   45.0     0.0\n",
      "4      1963     11      ac -2.260   46.0     0.0\n",
      "...     ...    ...     ...    ...    ...     ...\n",
      "12638  2019      8   glumd  2.990  715.0     1.0\n",
      "12639  2019      9   glumd -3.260  716.0     1.0\n",
      "12640  2019     10   glumd -0.940  717.0     1.0\n",
      "12641  2019     11   glumd  0.000  718.0     1.0\n",
      "12642  2019     12   glumd  0.740  719.0     1.0\n",
      "\n",
      "[12643 rows x 6 columns]\n",
      "       year  month anomaly    ret   time  global\n",
      "0      1963      7      ac  2.170   42.0     0.0\n",
      "1      1963      8      ac -0.197   43.0     0.0\n",
      "2      1963      9      ac  0.600   44.0     0.0\n",
      "3      1963     10      ac  6.463   45.0     0.0\n",
      "4      1963     11      ac -2.260   46.0     0.0\n",
      "...     ...    ...     ...    ...    ...     ...\n",
      "10111  2019      8     umd  7.600  715.0     0.0\n",
      "10112  2019      9     umd -6.850  716.0     0.0\n",
      "10113  2019     10     umd  0.240  717.0     0.0\n",
      "10114  2019     11     umd -2.620  718.0     0.0\n",
      "10115  2019     12     umd -2.130  719.0     0.0\n",
      "\n",
      "[10116 rows x 6 columns]\n"
     ]
    }
   ],
   "source": [
    "Anomalies = pd.read_stata('/Users/sebasleen/seminargroup/US Factors/anomalies.dta')\n",
    "print(Anomalies['anomaly'].unique())\n",
    "print(Anomalies)\n",
    "\n",
    "#Hier heb ik de global factors verwijderd\n",
    "column_name = 'anomaly'\n",
    "values_to_drop = ['glbab', 'glcma', 'glhml', 'glqmj', 'glrmw', 'glsmb', 'glumd']\n",
    "mask = Anomalies[column_name].isin(values_to_drop)\n",
    "Anomalies_US = Anomalies[~mask]\n",
    "\n",
    "#Dit zijn dus alle 15 factors die alleen bij de US horen. \n",
    "print(Anomalies_US)\n",
    "\n",
    "\n",
    "\n"
   ]
  },
  {
   "cell_type": "markdown",
   "id": "bf7c884d-091b-4d87-ae2d-7c17745a1798",
   "metadata": {},
   "source": [
    "<font size='4' face='Times new Roman'>    \n",
    "\n",
    "Voor de duidelijkheid, dit zijn de US factors:\n",
    "\n",
    "- **-ac**: Accruals\n",
    "- **-bab**: Betting against Beta\n",
    "- **-cfp**: Cash-flow to price\n",
    "- **-cma**: Investment (Conservative minus aggressive)\n",
    "- **-ep**: Earnings to price\n",
    "- **-hml**: Value\n",
    "- **-liq**: Liquidity\n",
    "- **-ltrev**: Long-term reversal\n",
    "- **-nsi**: Net share issue\n",
    "- **-qmj**: Quality minus junk\n",
    "- **-rmw**: Profitability\n",
    "- **-rvar**: Residual Variance\n",
    "- **-smb**: Size\n",
    "- **-strev**: Short-term reversals\n",
    "- **-umd**: Momentum\n",
    "\n",
    "En dit zijn de global factors die ik zojuist heb gedropt:\n",
    "\n",
    "- **glbab**: Betting against beta\n",
    "- **glcma**: Investment (Conservative minus aggressive)\n",
    "- **glhml**: Value (high minus low)\n",
    "- **glqmj**: Quality minus junk\n",
    "- **glrmw**: Profitability (robust minus weak)\n",
    "- **glumd**: Momentum (up minus down)\n",
    "- **glsmb**: Size (small minus big)\n",
    "\n",
    "</font>\n"
   ]
  },
  {
   "cell_type": "code",
   "execution_count": 122,
   "id": "f2879440-a01d-41f5-818c-c22259c9b298",
   "metadata": {
    "tags": []
   },
   "outputs": [
    {
     "name": "stdout",
     "output_type": "stream",
     "text": [
      "     year  month anomaly    ret   time  global\n",
      "0    1963      7      ac  2.170   42.0     0.0\n",
      "1    1963      8      ac -0.197   43.0     0.0\n",
      "2    1963      9      ac  0.600   44.0     0.0\n",
      "3    1963     10      ac  6.463   45.0     0.0\n",
      "4    1963     11      ac -2.260   46.0     0.0\n",
      "..    ...    ...     ...    ...    ...     ...\n",
      "673  2019      8      ac  1.850  715.0     0.0\n",
      "674  2019      9      ac -1.473  716.0     0.0\n",
      "675  2019     10      ac  0.020  717.0     0.0\n",
      "676  2019     11      ac -0.250  718.0     0.0\n",
      "677  2019     12      ac  0.120  719.0     0.0\n",
      "\n",
      "[678 rows x 6 columns]\n",
      "Mean of 'ret' column for 'anomaly' values equal to 'smb': 2.343997061252594\n"
     ]
    }
   ],
   "source": [
    "# Assuming df is your DataFrame\n",
    "# Filter the DataFrame to include only rows where the 'anomaly' column has the value \"smb\"\n",
    "filtered_df = Anomalies_US[Anomalies_US['anomaly'] == 'ac']\n",
    "\n",
    "print(filtered_df)\n",
    "# Calculate the mean of the 'ret' column for the filtered DataFrame\n",
    "mean_ret_smb = filtered_df['ret'].mean()*10\n",
    "\n",
    "# Print the mean value\n",
    "print(\"Mean of 'ret' column for 'anomaly' values equal to 'smb':\", mean_ret_smb)\n",
    "\n",
    "\n"
   ]
  }
 ],
 "metadata": {
  "kernelspec": {
   "display_name": "Python 3 (ipykernel)",
   "language": "python",
   "name": "python3"
  },
  "language_info": {
   "codemirror_mode": {
    "name": "ipython",
    "version": 3
   },
   "file_extension": ".py",
   "mimetype": "text/x-python",
   "name": "python",
   "nbconvert_exporter": "python",
   "pygments_lexer": "ipython3",
   "version": "3.11.5"
  }
 },
 "nbformat": 4,
 "nbformat_minor": 5
}
