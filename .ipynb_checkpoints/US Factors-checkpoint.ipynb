{
 "cells": [
  {
   "cell_type": "code",
   "execution_count": null,
   "id": "e3e35eb0-c1bc-43d8-acf0-bfabfc5d26a8",
   "metadata": {},
   "outputs": [],
   "source": [
    "import numpy as np\n",
    "import seaborn as sns\n",
    "import pandas as pd\n"
   ]
  },
  {
   "cell_type": "markdown",
   "id": "c9e52379-b56c-4f14-91ca-3c885dfb561b",
   "metadata": {},
   "source": [
    "<font size='4' face='Times new Roman'>\n",
    "    Dit worden de US Factors\n",
    "    <font>"
   ]
  }
 ],
 "metadata": {
  "kernelspec": {
   "display_name": "Python 3 (ipykernel)",
   "language": "python",
   "name": "python3"
  },
  "language_info": {
   "codemirror_mode": {
    "name": "ipython",
    "version": 3
   },
   "file_extension": ".py",
   "mimetype": "text/x-python",
   "name": "python",
   "nbconvert_exporter": "python",
   "pygments_lexer": "ipython3",
   "version": "3.11.5"
  }
 },
 "nbformat": 4,
 "nbformat_minor": 5
}
